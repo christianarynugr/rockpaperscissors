{
  "nbformat": 4,
  "nbformat_minor": 0,
  "metadata": {
    "colab": {
      "name": "dicodingSubFINAL.ipynb",
      "provenance": []
    },
    "kernelspec": {
      "name": "python3",
      "display_name": "Python 3"
    },
    "language_info": {
      "name": "python"
    }
  },
  "cells": [
    {
      "cell_type": "code",
      "metadata": {
        "colab": {
          "base_uri": "https://localhost:8080/"
        },
        "id": "W96b0mKWRnaq",
        "outputId": "56d4380a-55a6-43e5-9e33-6e19251acdda"
      },
      "source": [
        "import tensorflow as tf\n",
        "print(tf.__version__)"
      ],
      "execution_count": 1,
      "outputs": [
        {
          "output_type": "stream",
          "text": [
            "2.4.1\n"
          ],
          "name": "stdout"
        }
      ]
    },
    {
      "cell_type": "code",
      "metadata": {
        "colab": {
          "base_uri": "https://localhost:8080/"
        },
        "id": "2Unew_s0RsLa",
        "outputId": "7eed6b0b-749f-4b58-8a44-80293462d6a5"
      },
      "source": [
        "!wget --no-check-certificate \\\n",
        " https://dicodingacademy.blob.core.windows.net/picodiploma/ml_pemula_academy/rockpaperscissors.zip \\\n",
        "  -O /tmp/rockpaperscissors.zip"
      ],
      "execution_count": 2,
      "outputs": [
        {
          "output_type": "stream",
          "text": [
            "--2021-04-15 06:45:18--  https://dicodingacademy.blob.core.windows.net/picodiploma/ml_pemula_academy/rockpaperscissors.zip\n",
            "Resolving dicodingacademy.blob.core.windows.net (dicodingacademy.blob.core.windows.net)... 52.239.197.36\n",
            "Connecting to dicodingacademy.blob.core.windows.net (dicodingacademy.blob.core.windows.net)|52.239.197.36|:443... connected.\n",
            "HTTP request sent, awaiting response... 200 OK\n",
            "Length: 322873683 (308M) [application/zip]\n",
            "Saving to: ‘/tmp/rockpaperscissors.zip’\n",
            "\n",
            "/tmp/rockpapersciss 100%[===================>] 307.92M  12.0MB/s    in 30s     \n",
            "\n",
            "2021-04-15 06:45:48 (10.4 MB/s) - ‘/tmp/rockpaperscissors.zip’ saved [322873683/322873683]\n",
            "\n"
          ],
          "name": "stdout"
        }
      ]
    },
    {
      "cell_type": "code",
      "metadata": {
        "id": "z82CenjLSO1m"
      },
      "source": [
        "import zipfile,os\n",
        "local_zip = '/tmp/rockpaperscissors.zip'\n",
        "zip_ref = zipfile.ZipFile(local_zip, 'r')\n",
        "zip_ref.extractall('/tmp')\n",
        "zip_ref.close()"
      ],
      "execution_count": 11,
      "outputs": []
    },
    {
      "cell_type": "code",
      "metadata": {
        "colab": {
          "base_uri": "https://localhost:8080/"
        },
        "id": "HVUr8B9CSesz",
        "outputId": "5aeea67d-ece4-4c7e-87d0-c87f3f7660da"
      },
      "source": [
        "os.listdir('/tmp/rockpaperscissors/rps-cv-images')"
      ],
      "execution_count": 12,
      "outputs": [
        {
          "output_type": "execute_result",
          "data": {
            "text/plain": [
              "['README_rpc-cv-images.txt', 'scissors', 'paper', 'rock']"
            ]
          },
          "metadata": {
            "tags": []
          },
          "execution_count": 12
        }
      ]
    },
    {
      "cell_type": "code",
      "metadata": {
        "colab": {
          "base_uri": "https://localhost:8080/"
        },
        "id": "6hiH8BSbTuyd",
        "outputId": "848a162d-3af7-4abf-ada1-030b659a0279"
      },
      "source": [
        "!pip install split-folders\n",
        "import splitfolders\n",
        "splitfolders.ratio('/tmp/rockpaperscissors/rps-cv-images', output='/tmp/rockpaperscissors/hasil_split', seed=1337, ratio=(.6,.4))"
      ],
      "execution_count": 13,
      "outputs": [
        {
          "output_type": "stream",
          "text": [
            "Requirement already satisfied: split-folders in /usr/local/lib/python3.7/dist-packages (0.4.3)\n"
          ],
          "name": "stdout"
        },
        {
          "output_type": "stream",
          "text": [
            "Copying files: 2188 files [00:00, 4084.89 files/s]\n"
          ],
          "name": "stderr"
        }
      ]
    },
    {
      "cell_type": "code",
      "metadata": {
        "id": "6K3AsR-WUTdt"
      },
      "source": [
        "base_dir = '/tmp/rockpaperscissors/hasil_split'\n",
        "train_dir = os.path.join(base_dir, 'train')\n",
        "validation_dir = os.path.join(base_dir, 'val')"
      ],
      "execution_count": 18,
      "outputs": []
    },
    {
      "cell_type": "code",
      "metadata": {
        "colab": {
          "base_uri": "https://localhost:8080/"
        },
        "id": "g2W0mxVkTQ_Y",
        "outputId": "66eb4a66-de03-4e19-d2be-b1ee0bd5ffd9"
      },
      "source": [
        "from tensorflow.keras.preprocessing.image import ImageDataGenerator\n",
        " \n",
        "train_datagen = ImageDataGenerator(\n",
        "                    rescale=1./255,\n",
        "                    rotation_range=20,\n",
        "                    horizontal_flip=True,\n",
        "                    shear_range = 0.2,\n",
        "                    fill_mode = 'nearest')\n",
        " \n",
        "val_datagen = ImageDataGenerator(\n",
        "                    rescale=1./255,\n",
        "                    rotation_range=20,\n",
        "                    horizontal_flip=True,\n",
        "                    shear_range = 0.2,\n",
        "                    fill_mode = 'nearest')\n",
        "\n",
        "train_generator = train_datagen.flow_from_directory(\n",
        "    train_dir,\n",
        "    target_size=(150,150),\n",
        "    batch_size=32,\n",
        "    class_mode='categorical'\n",
        ")\n",
        "validation_generator = val_datagen.flow_from_directory(\n",
        "    validation_dir,\n",
        "    target_size=(150,150),\n",
        "    batch_size=32,\n",
        "    class_mode='categorical'\n",
        ")"
      ],
      "execution_count": 19,
      "outputs": [
        {
          "output_type": "stream",
          "text": [
            "Found 1312 images belonging to 3 classes.\n",
            "Found 876 images belonging to 3 classes.\n"
          ],
          "name": "stdout"
        }
      ]
    },
    {
      "cell_type": "code",
      "metadata": {
        "id": "2S6tEd_IU0BZ"
      },
      "source": [
        "model = tf.keras.models.Sequential([\n",
        "    tf.keras.layers.Conv2D(32, (3,3), activation='relu', input_shape=(150, 150, 3)),\n",
        "    tf.keras.layers.MaxPooling2D(2, 2),\n",
        "    tf.keras.layers.Conv2D(64, (3,3), activation='relu'),\n",
        "    tf.keras.layers.MaxPooling2D(2,2),\n",
        "    tf.keras.layers.Conv2D(128, (3,3), activation='relu'),\n",
        "    tf.keras.layers.MaxPooling2D(2,2),\n",
        "    tf.keras.layers.Conv2D(128, (3,3), activation='relu'),\n",
        "    tf.keras.layers.MaxPooling2D(2,2),\n",
        "    tf.keras.layers.Flatten(),\n",
        "    tf.keras.layers.Dense(512, activation='relu'),\n",
        "    tf.keras.layers.Dense(3, activation='softmax')\n",
        "])"
      ],
      "execution_count": 30,
      "outputs": []
    },
    {
      "cell_type": "code",
      "metadata": {
        "id": "urRV2EmSWeq8"
      },
      "source": [
        "model.compile(loss='categorical_crossentropy',\n",
        "              optimizer=tf.optimizers.Adam(),\n",
        "              metrics=['accuracy'])"
      ],
      "execution_count": 31,
      "outputs": []
    },
    {
      "cell_type": "code",
      "metadata": {
        "colab": {
          "base_uri": "https://localhost:8080/"
        },
        "id": "G0ZADWNeWtr1",
        "outputId": "7537fc81-8ebc-4b87-9769-ec3f59a620d4"
      },
      "source": [
        "history = model.fit(\n",
        "      train_generator,\n",
        "      steps_per_epoch = 25,\n",
        "      epochs = 20,\n",
        "      validation_data = validation_generator,\n",
        "      validation_steps = 5,\n",
        "      verbose=2)"
      ],
      "execution_count": 32,
      "outputs": [
        {
          "output_type": "stream",
          "text": [
            "Epoch 1/20\n",
            "25/25 - 42s - loss: 1.0729 - accuracy: 0.4325 - val_loss: 0.9619 - val_accuracy: 0.6062\n",
            "Epoch 2/20\n",
            "25/25 - 41s - loss: 0.7505 - accuracy: 0.6550 - val_loss: 0.3993 - val_accuracy: 0.8625\n",
            "Epoch 3/20\n",
            "25/25 - 41s - loss: 0.3636 - accuracy: 0.8712 - val_loss: 0.3041 - val_accuracy: 0.9000\n",
            "Epoch 4/20\n",
            "25/25 - 41s - loss: 0.2651 - accuracy: 0.9087 - val_loss: 0.2188 - val_accuracy: 0.9187\n",
            "Epoch 5/20\n",
            "25/25 - 41s - loss: 0.1910 - accuracy: 0.9425 - val_loss: 0.2255 - val_accuracy: 0.9312\n",
            "Epoch 6/20\n",
            "25/25 - 42s - loss: 0.1839 - accuracy: 0.9450 - val_loss: 0.2013 - val_accuracy: 0.9187\n",
            "Epoch 7/20\n",
            "25/25 - 43s - loss: 0.1458 - accuracy: 0.9513 - val_loss: 0.1669 - val_accuracy: 0.9438\n",
            "Epoch 8/20\n",
            "25/25 - 41s - loss: 0.0925 - accuracy: 0.9675 - val_loss: 0.1351 - val_accuracy: 0.9625\n",
            "Epoch 9/20\n",
            "25/25 - 41s - loss: 0.1045 - accuracy: 0.9638 - val_loss: 0.2042 - val_accuracy: 0.9500\n",
            "Epoch 10/20\n",
            "25/25 - 41s - loss: 0.1980 - accuracy: 0.9337 - val_loss: 0.2268 - val_accuracy: 0.9062\n",
            "Epoch 11/20\n",
            "25/25 - 41s - loss: 0.1025 - accuracy: 0.9688 - val_loss: 0.0808 - val_accuracy: 0.9750\n",
            "Epoch 12/20\n",
            "25/25 - 41s - loss: 0.0726 - accuracy: 0.9762 - val_loss: 0.0821 - val_accuracy: 0.9812\n",
            "Epoch 13/20\n",
            "25/25 - 41s - loss: 0.0975 - accuracy: 0.9688 - val_loss: 0.0558 - val_accuracy: 0.9875\n",
            "Epoch 14/20\n",
            "25/25 - 41s - loss: 0.0774 - accuracy: 0.9712 - val_loss: 0.1178 - val_accuracy: 0.9688\n",
            "Epoch 15/20\n",
            "25/25 - 41s - loss: 0.0467 - accuracy: 0.9825 - val_loss: 0.1326 - val_accuracy: 0.9563\n",
            "Epoch 16/20\n",
            "25/25 - 41s - loss: 0.0729 - accuracy: 0.9762 - val_loss: 0.1368 - val_accuracy: 0.9563\n",
            "Epoch 17/20\n",
            "25/25 - 41s - loss: 0.0614 - accuracy: 0.9825 - val_loss: 0.1091 - val_accuracy: 0.9563\n",
            "Epoch 18/20\n",
            "25/25 - 41s - loss: 0.0498 - accuracy: 0.9887 - val_loss: 0.2999 - val_accuracy: 0.9000\n",
            "Epoch 19/20\n",
            "25/25 - 40s - loss: 0.0892 - accuracy: 0.9762 - val_loss: 0.0427 - val_accuracy: 0.9812\n",
            "Epoch 20/20\n",
            "25/25 - 40s - loss: 0.0483 - accuracy: 0.9850 - val_loss: 0.0642 - val_accuracy: 0.9750\n"
          ],
          "name": "stdout"
        }
      ]
    },
    {
      "cell_type": "code",
      "metadata": {
        "id": "74Y8kTimen6l"
      },
      "source": [
        "import numpy as np\n",
        "from google.colab import files\n",
        "from keras.preprocessing import image\n",
        "import matplotlib.pyplot as plt\n",
        "import matplotlib.image as mpimg\n",
        "%matplotlib inline\n",
        " \n",
        "uploaded = files.upload()\n",
        "\n",
        "for fn in uploaded.keys():\n",
        "\n",
        "  path = fn\n",
        "  img = image.load_img(path, target_size=(150,150))\n",
        "  imgplot = plt.imshow(img)\n",
        "  x = image.img_to_array(img)\n",
        "  x = np.expand_dims(x, axis=0)\n",
        " \n",
        "  images = np.vstack([x])\n",
        "  classes = model.predict(images, batch_size=10)\n",
        "  \n",
        "print(fn)\n",
        "if classes[0,0]!=0:\n",
        "  print('paper')\n",
        "elif classes[0,1]!=0:\n",
        "  print('rock')\n",
        "else:\n",
        "  print('scissors')"
      ],
      "execution_count": null,
      "outputs": []
    },
    {
      "cell_type": "markdown",
      "metadata": {
        "id": "o4SQwCt4vR1e"
      },
      "source": [
        "Nama: Christian Ary Nugroho</p>Email: christianarynugr@gmail.com</p>\n",
        "Domisili: Depok"
      ]
    }
  ]
}